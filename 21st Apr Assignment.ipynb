{
 "cells": [
  {
   "cell_type": "markdown",
   "id": "ab058546-3425-4d1e-a7fe-0e871b067b95",
   "metadata": {},
   "source": [
    "# 21st April Assignment"
   ]
  },
  {
   "cell_type": "code",
   "execution_count": null,
   "id": "c220210d-2d96-420d-84a2-7162fc8fe389",
   "metadata": {},
   "outputs": [],
   "source": []
  },
  {
   "cell_type": "markdown",
   "id": "c5e8c557-3b37-4445-91dc-686e4c237165",
   "metadata": {},
   "source": [
    "## Q1. What is the main difference between the Euclidean distance metric and the Manhattan distance metric in KNN? How might this difference affect the performance of a KNN classifier or regressor?\n"
   ]
  },
  {
   "cell_type": "markdown",
   "id": "fcc9f50d-4042-41f4-8bde-6ce126f01d30",
   "metadata": {},
   "source": [
    "* Differences \n",
    "\n",
    "1. Definition\n",
    "\n",
    "Euclidean Distance : It is a straight line distance between two points in Euclidean space.\n",
    "\n",
    "Manhattan Distance : It is a measure of distance between two lines in grid system,where you can travel along the grid lines.\n",
    "\n",
    "2. Formula \n",
    "\n",
    "Euclidean Distance : np.sqrt( (X2 - X1) ** 2 + (Y2 - Y1) ** 2 )\n",
    "\n",
    "Manhattan Distance : |X1 - X2| + |Y1 - Y2|\n",
    "\n",
    "* Impact of difference in KNN\n",
    "\n",
    "1. Sensitive\n",
    "\n",
    "Euclidean Distance : If features have different units, so distance can be easily influenced by it.\n",
    "\n",
    "Manhattan Distance : This technique sums the absolute value, so it is less sensitive to differences in unit.\n",
    "\n",
    "2. Impact of Feature Importance\n",
    "\n",
    "Euclidean Distance : This technique can give more weight to the high value feature because of it square term in formula.\n",
    "\n",
    "Manhattan Distance : It treats all features equally."
   ]
  },
  {
   "cell_type": "code",
   "execution_count": null,
   "id": "421d1d1d-9d72-443c-9327-075a74880efc",
   "metadata": {},
   "outputs": [],
   "source": []
  },
  {
   "cell_type": "markdown",
   "id": "44bb73d1-7684-4c9d-a3c7-dace1909d6fc",
   "metadata": {},
   "source": [
    "## Q2. How do you choose the optimal value of k for a KNN classifier or regressor? What techniques can be used to determine the optimal k value?"
   ]
  },
  {
   "cell_type": "markdown",
   "id": "f49fa808-d022-45d7-b76e-bffd7e42ea8c",
   "metadata": {},
   "source": [
    "- > I choose the optimal value of k by hyperparameter tuning.\n",
    "\n",
    "* Different Techniques \n",
    "\n",
    "1. Hyperparameter Tuning : We can choose best k value by GridSearchCV or RandomizedSearchCV.\n",
    "\n",
    "2. Cross Validation : By applying different k value on different data we can get best k value.\n",
    "\n",
    "3. We should choose odd value for binary classification,so we can easily get clear majority.\n",
    "\n",
    "4. Rule of Thumb : In this technique we have to start from small to high value by monitoring the performance."
   ]
  },
  {
   "cell_type": "code",
   "execution_count": null,
   "id": "f26f1f8e-03f3-46c4-b5df-79271aa8a3a8",
   "metadata": {},
   "outputs": [],
   "source": []
  },
  {
   "cell_type": "markdown",
   "id": "9bf3b126-8765-4d72-b689-b09727f3d8fc",
   "metadata": {},
   "source": [
    "## Q3. How does the choice of distance metric affect the performance of a KNN classifier or regressor? In what situations might you choose one distance metric over the other?\n"
   ]
  },
  {
   "cell_type": "markdown",
   "id": "d33c2f8d-d8e9-49c1-a9e5-4c9687c6a670",
   "metadata": {},
   "source": [
    "* When to choose Euclidean Distance\n",
    "\n",
    "When relationship between features are expected isotropic.\n",
    "\n",
    "* When to choose Manhattan Distance\n",
    "\n",
    "When features are in different scale and you want distance less influenced.\n",
    "\n",
    "Some features are more important than others,and you want distance that reflects the different importance."
   ]
  },
  {
   "cell_type": "code",
   "execution_count": null,
   "id": "2d9e4e6d-e3d0-4470-adc6-8f54d6ae1bc3",
   "metadata": {},
   "outputs": [],
   "source": []
  },
  {
   "cell_type": "markdown",
   "id": "46fc06e5-1e1b-4b15-93bc-1e7eb1b4919e",
   "metadata": {},
   "source": [
    "## Q4. What are some common hyperparameters in KNN classifiers and regressors, and how do they affect the performance of the model? How might you go about tuning these hyperparameters to improve model performance?"
   ]
  },
  {
   "cell_type": "markdown",
   "id": "188000a6-6681-4e47-ac0e-4dd8e3fbcf07",
   "metadata": {},
   "source": [
    "1. Number of Neighbors\n",
    "\n",
    "It is most crucial parameter of this algorithm.\n",
    "\n",
    "Smaller value creates flexible and larger value creates smoother model.\n",
    "\n",
    "2. Distance Metric\n",
    "\n",
    "Determines the measure of similarity and dissimilarity between data points.\n",
    "\n",
    "3. Leaf Size\n",
    "\n",
    "Determines the size of leaf node in tree based algorithm\n",
    "\n",
    "Smaller leaf size may increase the speed of tree construction but it can lead larger memory footprint."
   ]
  },
  {
   "cell_type": "code",
   "execution_count": null,
   "id": "5b61f052-2e03-4ce5-bd83-5dc43a2abf1e",
   "metadata": {},
   "outputs": [],
   "source": []
  },
  {
   "cell_type": "markdown",
   "id": "14a7717d-5acc-4304-b30c-17b5087885d5",
   "metadata": {},
   "source": [
    "## Q5. How does the size of the training set affect the performance of a KNN classifier or regressor? What techniques can be used to optimize the size of the training set?"
   ]
  },
  {
   "cell_type": "markdown",
   "id": "d7888615-7efc-41fc-8138-e7d3ff4ca1b0",
   "metadata": {},
   "source": [
    "The effect of training size on performance of models is influenced by several factors,including model complexity and bais-variance trade-off.\n",
    "\n",
    "* Techniques\n",
    "\n",
    "1. Cross Validation\n",
    "\n",
    "2. Random Sampling\n",
    "\n",
    "3. Stratified Sampling\n",
    "\n",
    "4. Feature Selection"
   ]
  },
  {
   "cell_type": "code",
   "execution_count": null,
   "id": "ed64ba79-89ad-49ea-a5d9-4ca4974ff645",
   "metadata": {},
   "outputs": [],
   "source": []
  },
  {
   "cell_type": "markdown",
   "id": "84387bac-a79b-4be5-8551-08eb076eb9ef",
   "metadata": {},
   "source": [
    "## Q6. What are some potential drawbacks of using KNN as a classifier or regressor? How might you overcome these drawbacks to improve the performance of the model?"
   ]
  },
  {
   "cell_type": "markdown",
   "id": "7b454f83-d394-4613-9f2e-c668d4e56895",
   "metadata": {},
   "source": [
    "1. Computational Complexity\n",
    "\n",
    "Calculation distance between query point and all training point is time consuming.\n",
    "\n",
    "We can calculate distance with the help of KD Tree and Ball Tree,this techniques ain't time consuming.\n",
    "\n",
    "2. Sensitive to Outliers\n",
    "\n",
    "KNN is sensitive to outliers,it can effect the distance calculation and prediction.\n",
    "\n",
    "We can use Manhattan Distance technique to calculate the distance.\n",
    "\n",
    "3. Sensitive to High Magnitude\n",
    "\n",
    "High magnitude "
   ]
  }
 ],
 "metadata": {
  "kernelspec": {
   "display_name": "Python 3 (ipykernel)",
   "language": "python",
   "name": "python3"
  },
  "language_info": {
   "codemirror_mode": {
    "name": "ipython",
    "version": 3
   },
   "file_extension": ".py",
   "mimetype": "text/x-python",
   "name": "python",
   "nbconvert_exporter": "python",
   "pygments_lexer": "ipython3",
   "version": "3.10.8"
  }
 },
 "nbformat": 4,
 "nbformat_minor": 5
}
